{
 "cells": [
  {
   "cell_type": "markdown",
   "metadata": {},
   "source": [
    "# 상승장? 하락장?\n",
    "\n",
    "> 최고가와 최저가의 차이를 변동폭으로 정의할 때 (시가 + 변동폭)이 최고가 보다 높을 경우 \"상승장\", 그렇지 않은 경우 \"하락장\" 문자열을 출력하라.\n",
    "\n",
    "|Key Name|Description|\n",
    "|------|---|\n",
    "|opeing_price|최근 24시간 내 시작 거래금액|\n",
    "|closing_price|최근 24시간 내 마지막 거래금액|\n",
    "|min_price|최근 24시간 내 최저 거래금액|\n",
    "|max_price|최근 24시간 내 최고 거래금액|"
   ]
  },
  {
   "cell_type": "code",
   "execution_count": null,
   "metadata": {
    "scrolled": true
   },
   "outputs": [],
   "source": [
    "import requests\n",
    "from pprint import pprint   # pprint 쓰면 데이터 목록이 정리되어서 출력\n",
    "\n",
    "url = \"https://api.bithumb.com/public/ticker/btc\"\n",
    "data = requests.get(url).json()['data']\n",
    "pprint(data)"
   ]
  },
  {
   "cell_type": "code",
   "execution_count": null,
   "metadata": {},
   "outputs": [],
   "source": [
    "# 변동폭 : 최고가 - 최저가\n",
    "# 시가 : 시작가\n",
    "\n",
    "opening_price = int(data.get('opening_price'))\n",
    "closing_price = int(data.get('closing_price'))\n",
    "min_price = int(data.get('min_price'))\n",
    "max_price = int(data.get('max_price'))\n",
    "opening_price = int(data.get('opening_price'))\n",
    "\n",
    "how_much = max_price - min_price\n",
    "\n",
    "if opening_price + how_much > max_price:\n",
    "    print('상승장')\n",
    "else:\n",
    "    print('하락장')\n",
    "\n"
   ]
  },
  {
   "cell_type": "code",
   "execution_count": null,
   "metadata": {},
   "outputs": [],
   "source": [
    "# 변동폭 : 최고가 - 최저가\n",
    "# 시가 : 시작가\n",
    "\n",
    "opening_price = int(data['opening_price'])   # int(data.get('opening_price'))\n",
    "max_price = int(data['max_price'])\n",
    "min_price = int(data['min_price'])\n",
    "\n",
    "price_gap = max_price - min_price\n",
    "\n",
    "if opening_price + price_gap > max_price:\n",
    "    print('상승장')\n",
    "else:\n",
    "    print('하락장')"
   ]
  },
  {
   "cell_type": "markdown",
   "metadata": {},
   "source": [
    "# 모음 제거하기\n",
    "\n",
    "> 다음 문장의 모음을 제거하여 출력하세요.\n",
    "\n",
    "```\n",
    "예시 입력)\n",
    "\"Life is too short, you need python\"\n",
    "예시 출력)\n",
    "Lf s t shrt, y nd pythn\n",
    "```"
   ]
  },
  {
   "cell_type": "code",
   "execution_count": 1,
   "metadata": {},
   "outputs": [],
   "source": [
    "my_str = \"Life is too short, you need python\""
   ]
  },
  {
   "cell_type": "code",
   "execution_count": null,
   "metadata": {},
   "outputs": [],
   "source": [
    "vowels = 'aeiou'\n",
    "\n",
    "result = ''\n",
    "for word in my_str:\n",
    "    if word not in vowels:\n",
    "        result += word\n",
    "print(result)\n",
    "    "
   ]
  },
  {
   "cell_type": "code",
   "execution_count": 2,
   "metadata": {},
   "outputs": [
    {
     "name": "stdout",
     "output_type": "stream",
     "text": [
      "Lf s t shrt, y nd pythn\n"
     ]
    }
   ],
   "source": [
    "vowels = 'aeiou'\n",
    "result = [char for char in my_str if char not in vowels]\n",
    "print(''.join(result))"
   ]
  },
  {
   "cell_type": "code",
   "execution_count": null,
   "metadata": {},
   "outputs": [],
   "source": [
    "for i in my_str:\n",
    "    if i != 'a' and i != 'e' and i != 'i' and i != 'o' and i != 'u':\n",
    "        print(i, end='')"
   ]
  },
  {
   "cell_type": "code",
   "execution_count": null,
   "metadata": {},
   "outputs": [],
   "source": [
    "def remove_vowels(text):\n",
    "    return ''.join(ch for ch in text if ch.lower() not in 'aeiou')\n",
    "print(remove_vowels(my_str))"
   ]
  },
  {
   "cell_type": "code",
   "execution_count": null,
   "metadata": {},
   "outputs": [],
   "source": [
    "# 그럼 하나하나씩 돌면서 모음이면 기록하지 않고, 모음이 아니면 기록해야겠다! -> 기록할 변수가 필요하네? -> result = ''\n",
    "result = ''     # 빈 string을 만들고 문자열을 돌면서\n",
    "for char in my_str:\n",
    "# 모음이 아니면 기록\n",
    "         if char != 'a' and char != 'e' and char != 'i' and char != 'o' and char != 'u':\n",
    "                 result += char\n",
    "print(result)"
   ]
  },
  {
   "cell_type": "code",
   "execution_count": null,
   "metadata": {},
   "outputs": [],
   "source": [
    "# 각각의 비교가 아니라, 어떤 통 안에 들어있나 없나를 판단\n",
    "vowels = ['a', 'e', 'i', 'o', 'u']\n",
    "# vowels = 'aeiou'\n",
    "result = ''\n",
    "for char in my_str:\n",
    "        if char not in vowels:\n",
    "                result += char\n",
    "print(result)"
   ]
  },
  {
   "cell_type": "code",
   "execution_count": null,
   "metadata": {},
   "outputs": [],
   "source": [
    "# 새로운 변수를 만드는게 아니라 원본을 수정\n",
    "vowels = 'aeiou'\n",
    "for vowel in vowels:\n",
    "        my_str = my_str.replace(vowel, '')\n",
    "print(my_str)"
   ]
  }
 ],
 "metadata": {
  "kernelspec": {
   "display_name": "Python 3",
   "language": "python",
   "name": "python3"
  },
  "language_info": {
   "codemirror_mode": {
    "name": "ipython",
    "version": 3
   },
   "file_extension": ".py",
   "mimetype": "text/x-python",
   "name": "python",
   "nbconvert_exporter": "python",
   "pygments_lexer": "ipython3",
   "version": "3.7.3"
  },
  "toc": {
   "base_numbering": 1,
   "nav_menu": {},
   "number_sections": true,
   "sideBar": true,
   "skip_h1_title": false,
   "title_cell": "Table of Contents",
   "title_sidebar": "Contents",
   "toc_cell": false,
   "toc_position": {},
   "toc_section_display": true,
   "toc_window_display": false
  }
 },
 "nbformat": 4,
 "nbformat_minor": 2
}
