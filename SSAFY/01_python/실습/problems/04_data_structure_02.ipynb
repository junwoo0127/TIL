{
 "cells": [
  {
   "cell_type": "markdown",
   "metadata": {},
   "source": [
    "# 메소드 없는 세상 <1>\n",
    "\n",
    "> 알파벳으로 이뤄진 word를 입력받아 알파벳 대소문자를 서로 교환한 결과를 반환하는 `my_swapcase(word)`를 작성해주세요.\n",
    "\n",
    "**`.upper()`, `.lower()`, `swapcase()`는 사용하지 말아주세요.**\n",
    "\n",
    "**Tip! 문자와 숫자에는 특별한 관계가 있습니다. Google에서 아스키 코드를 참고하세요**\n",
    "\n",
    "```python\n",
    "# 예시\n",
    "print(my_swapcase('hello, World!')) # => HELLO, wORLD!\n",
    "print(my_swapcase('@_@')) # => @_@\n",
    "print(my_swapcase('2^3은 8이다!')) # => 2^3은 8이다!\n",
    "```"
   ]
  },
  {
   "cell_type": "code",
   "execution_count": null,
   "metadata": {},
   "outputs": [],
   "source": [
    "# 아래에 코드를 작성해주세요."
   ]
  },
  {
   "cell_type": "code",
   "execution_count": 2,
   "metadata": {},
   "outputs": [
    {
     "name": "stdout",
     "output_type": "stream",
     "text": [
      "HELLO, wORLD!\n",
      "@_@\n",
      "2^3 8!\n"
     ]
    }
   ],
   "source": [
    "def my_swapcase(words):\n",
    "    result = ''\n",
    "    for word in words:\n",
    "        if word.isalpha() == True:\n",
    "            if 65 <= ord(word) <= 90:\n",
    "                result += chr(ord(word)+32)\n",
    "            elif 97 <= ord(word) <= 122:\n",
    "                result += chr(ord(word)-32)\n",
    "        else:\n",
    "            result += word\n",
    "    return result\n",
    "\n",
    "print(my_swapcase('hello, World!')) # => HELLO, wORLD!\n",
    "print(my_swapcase('@_@')) # => @_@\n",
    "print(my_swapcase('2^3은 8이다!')) # => 2^3은 8이다!"
   ]
  },
  {
   "cell_type": "code",
   "execution_count": 3,
   "metadata": {},
   "outputs": [],
   "source": [
    "def my_swapcase(word):\n",
    "    empty_list = []\n",
    "    for i in range(len(word)):\n",
    "        if not word[i].isalpha():\n",
    "            empty_list.append(word[i])\n",
    "        else:\n",
    "            if 64 < ord(word[i]) < 91:\n",
    "                empty_list.append(chr((ord(word[i]))+32))\n",
    "            elif 96 < ord(word[i]) < 123:\n",
    "                empty_list.append(chr((ord(word[i]))-32))\n",
    "#             else:\n",
    "#                 empty_list.append(word[i])\n",
    "    return ''.join(empty_list)\n",
    "\n",
    "# my_swapcase('hello, World!')"
   ]
  },
  {
   "cell_type": "code",
   "execution_count": 4,
   "metadata": {},
   "outputs": [
    {
     "name": "stdout",
     "output_type": "stream",
     "text": [
      "HELLO, wORLD!\n",
      "@_@\n",
      "2^3 8!\n"
     ]
    }
   ],
   "source": [
    "print(my_swapcase('hello, World!'))\n",
    "print(my_swapcase('@_@'))\n",
    "print(my_swapcase('2^3은 8이다!'))"
   ]
  },
  {
   "cell_type": "markdown",
   "metadata": {},
   "source": [
    "# 메소드 없는 세상 <2>\n",
    "\n",
    "> 우리는 문자열을 만들어 나갈 때, `.join(iterable)` 함수를 사용합니다. \n",
    ">\n",
    "> `.join(iterable)`이 생각나지 않을 때를 위해 직접 만들어보면서 감사함을 느껴봅시다.\n",
    ">\n",
    "> `my_join(target, word)`를 만들어 문자열을 반환해주세요.\n",
    ">\n",
    "> target은 바꿀 대상(iterable)이며, word는 합쳐지는 단어입니다. \n",
    "\n",
    "---\n",
    "\n",
    "\n",
    "예시)\n",
    "\n",
    "`''.join(a)` 와 `my_join(a, '')`은 같은 함수 호출입니다.\n",
    "\n",
    "```python\n",
    "print(my_join('배고파', '.')) # => 배.고.파\n",
    "print(my_join(['1', '2', '3'], '')) # => 123\n",
    "```"
   ]
  },
  {
   "cell_type": "code",
   "execution_count": null,
   "metadata": {},
   "outputs": [],
   "source": [
    "# 아래에 코드를 작성해주세요."
   ]
  },
  {
   "cell_type": "code",
   "execution_count": 9,
   "metadata": {},
   "outputs": [
    {
     "name": "stdout",
     "output_type": "stream",
     "text": [
      "배.고.파\n",
      "123\n"
     ]
    }
   ],
   "source": [
    "def my_join(target, word):\n",
    "    result = target[0]\n",
    "    for i in target[1:]:\n",
    "        result += word + i\n",
    "    return result\n",
    "\n",
    "print(my_join('배고파', '.')) # => 배.고.파\n",
    "print(my_join(['1', '2', '3'], '')) # => 123"
   ]
  },
  {
   "cell_type": "code",
   "execution_count": null,
   "metadata": {},
   "outputs": [],
   "source": []
  },
  {
   "cell_type": "code",
   "execution_count": null,
   "metadata": {},
   "outputs": [],
   "source": []
  },
  {
   "cell_type": "code",
   "execution_count": null,
   "metadata": {},
   "outputs": [],
   "source": []
  },
  {
   "cell_type": "code",
   "execution_count": 17,
   "metadata": {},
   "outputs": [
    {
     "name": "stdout",
     "output_type": "stream",
     "text": [
      "배.고.파\n",
      "123\n"
     ]
    }
   ],
   "source": [
    "def my_join(target, word):\n",
    "    result = ''\n",
    "    for i in range(len(target)):\n",
    "        if i == 0:\n",
    "            result += str(target[i])\n",
    "        else:\n",
    "            result += word\n",
    "            result += str(target[i])\n",
    "    return result\n",
    "\n",
    "print(my_join('배고파', '.')) # => 배.고.파\n",
    "print(my_join(['1', '2', '3'], '')) # => 123"
   ]
  },
  {
   "cell_type": "code",
   "execution_count": 17,
   "metadata": {},
   "outputs": [],
   "source": [
    "# 강사님 방법\n",
    "def my_join(target, word):\n",
    "    # 첫 문자열은 원본의 첫번째 값 (굳이 생각할 필요 없다.)\n",
    "    result = target[0]\n",
    "    for i in target[1:]:\n",
    "        result += word + i\n",
    "    return result"
   ]
  },
  {
   "cell_type": "code",
   "execution_count": 13,
   "metadata": {},
   "outputs": [
    {
     "name": "stdout",
     "output_type": "stream",
     "text": [
      "배.고.파\n",
      "123\n"
     ]
    }
   ],
   "source": [
    "def my_join(target, word):\n",
    "    result = ''\n",
    "    for i in target:\n",
    "        result += i\n",
    "        result += word\n",
    "    if result[-1] == word:\n",
    "        result = result[:-1]\n",
    "    return result\n",
    "    \n",
    "print(my_join('배고파', '.')) # => 배.고.파\n",
    "print(my_join(['1', '2', '3'], '')) # => 123"
   ]
  },
  {
   "cell_type": "code",
   "execution_count": 18,
   "metadata": {},
   "outputs": [
    {
     "name": "stdout",
     "output_type": "stream",
     "text": [
      "배.고.파\n",
      "123\n"
     ]
    }
   ],
   "source": [
    "print(my_join('배고파', '.'))\n",
    "print(my_join(['1', '2', '3'], ''))"
   ]
  },
  {
   "cell_type": "markdown",
   "metadata": {},
   "source": [
    "#  가능한 적게 변경하기\n",
    "\n",
    "> 대문자와 소문자가 혼합되어 있는 문자열어 주어지며\n",
    ">\n",
    "> 다음의 기준에 따라서 문자열을 소문자 혹은 대문자로 변환하세요.\n",
    "\n",
    "\n",
    "*  가능한 적게 변경하세요.\n",
    "*  만약에 문자열의 대문자 혹은 소문자가 같다면, 문자열을 모두 소문자로 변경하세요.\n",
    "\n",
    "--- \n",
    "\n",
    "```python\n",
    "# 예시 입력) \n",
    "print(solve('coDe'))\n",
    "print(solve('CODe'))\n",
    "print(solve('coDE'))\n",
    "\n",
    "# 예시 출력)\n",
    "'code'\n",
    "'CODE'\n",
    "'code'\n",
    "```"
   ]
  },
  {
   "cell_type": "code",
   "execution_count": null,
   "metadata": {},
   "outputs": [],
   "source": [
    "# 아래에 코드를 작성해주세요."
   ]
  },
  {
   "cell_type": "code",
   "execution_count": 57,
   "metadata": {},
   "outputs": [
    {
     "name": "stdout",
     "output_type": "stream",
     "text": [
      "code\n",
      "CODE\n",
      "code\n"
     ]
    }
   ],
   "source": [
    "def solve(words):\n",
    "    low_count = 0\n",
    "    up_count = 0\n",
    "    for word in words:\n",
    "        if word.islower():\n",
    "            low_count += 1\n",
    "        else:\n",
    "            up_count += 1\n",
    "    if low_count >= len(words) // 2:\n",
    "        return words.lower()\n",
    "    else:\n",
    "        return words.upper()\n",
    "\n",
    "print(solve('coDe'))\n",
    "print(solve('CODe'))\n",
    "print(solve('coDE'))"
   ]
  },
  {
   "cell_type": "code",
   "execution_count": 19,
   "metadata": {},
   "outputs": [],
   "source": [
    "# 1\n",
    "def solve(words):\n",
    "    upper = 0\n",
    "    lower = 0\n",
    "    # 대소문자를 각자 카운트.\n",
    "    for word in words:\n",
    "        if word.islower():\n",
    "            lower += 1\n",
    "        else:\n",
    "            upper += 1\n",
    "      \n",
    "    # 두 개의 카운트 값을 비교해서 원본을 변경.\n",
    "    if lower >= upper:\n",
    "        return words.lower()\n",
    "    else:\n",
    "        return words.upper()"
   ]
  },
  {
   "cell_type": "code",
   "execution_count": 25,
   "metadata": {},
   "outputs": [],
   "source": [
    "# 2\n",
    "# 대문자만 카운트 / 원본의 길이의 절반보다 많으면 대문자로 변경 / 아니면 소문자로 변경\n",
    "def solve(words):\n",
    "    upper = 0\n",
    "    for word in words:\n",
    "        if word.isupper():\n",
    "            upper += 1\n",
    "    if upper > len(words)//2:\n",
    "        return words.upper()\n",
    "    else: \n",
    "        return words.lower()"
   ]
  },
  {
   "cell_type": "code",
   "execution_count": 29,
   "metadata": {},
   "outputs": [],
   "source": [
    "# 3 (2번을 컴프리헨션으로 변경)\n",
    "def solve(words):\n",
    "    count = sum([1 for word in words if word.isupper()])\n",
    "    \n",
    "    if count > len(words)//2:\n",
    "        return words.upper()\n",
    "    else: \n",
    "        return words.lower()"
   ]
  },
  {
   "cell_type": "code",
   "execution_count": null,
   "metadata": {},
   "outputs": [],
   "source": [
    "def solve(word):\n",
    "    count = 0\n",
    "    for i in word:\n",
    "        if i == i.lower():\n",
    "            count += 1\n",
    "    if count >= len(word)/2:\n",
    "        return word.lower()\n",
    "    else:\n",
    "        return word.upper()"
   ]
  },
  {
   "cell_type": "code",
   "execution_count": 30,
   "metadata": {},
   "outputs": [
    {
     "name": "stdout",
     "output_type": "stream",
     "text": [
      "code\n",
      "CODE\n",
      "code\n"
     ]
    }
   ],
   "source": [
    "print(solve('coDe'))\n",
    "print(solve('CODe'))\n",
    "print(solve('coDE'))"
   ]
  },
  {
   "cell_type": "markdown",
   "metadata": {},
   "source": [
    "# 숨바꼭질\n",
    "\n",
    "> 숫자가 주어지면, 사용되지 않은 숫자를 프린트하세요.\n",
    "\n",
    "---\n",
    "\n",
    "```python\n",
    "# 예시)\n",
    "unused_digits(12, 34, 56, 78) # => '09'\n",
    "\n",
    "unused_digits(2015, 8, 26)  # => '3479'\n",
    "```\n",
    "\n",
    "\n",
    "**결과값은 정렬되어야 합니다.**\n",
    "\n"
   ]
  },
  {
   "cell_type": "code",
   "execution_count": null,
   "metadata": {},
   "outputs": [],
   "source": [
    "# 아래에 코드를 작성해주세요."
   ]
  },
  {
   "cell_type": "code",
   "execution_count": 84,
   "metadata": {},
   "outputs": [
    {
     "name": "stdout",
     "output_type": "stream",
     "text": [
      "09\n",
      "3479\n"
     ]
    }
   ],
   "source": [
    "def unused_digits(*args):\n",
    "    numbers = '0123456789'\n",
    "    number = ''\n",
    "    result = ''\n",
    "    for word in args:\n",
    "        number += str(word)\n",
    "\n",
    "#     print(number)    \n",
    "#     print(type(number))\n",
    "    for i in numbers:\n",
    "        if i not in number:\n",
    "            result += i\n",
    "    \n",
    "    return result\n",
    "\n",
    "\n",
    "print(unused_digits(12, 34, 56, 78)) # => '09'\n",
    "print(unused_digits(2015, 8, 26))  # => '3479'"
   ]
  },
  {
   "cell_type": "code",
   "execution_count": 66,
   "metadata": {},
   "outputs": [
    {
     "name": "stdout",
     "output_type": "stream",
     "text": [
      "[1, 2, 3]\n"
     ]
    }
   ],
   "source": [
    "a = [1, 2, 3]\n",
    "print(''.join(a))"
   ]
  },
  {
   "cell_type": "code",
   "execution_count": null,
   "metadata": {},
   "outputs": [],
   "source": []
  },
  {
   "cell_type": "code",
   "execution_count": null,
   "metadata": {},
   "outputs": [],
   "source": []
  },
  {
   "cell_type": "code",
   "execution_count": null,
   "metadata": {},
   "outputs": [],
   "source": []
  },
  {
   "cell_type": "code",
   "execution_count": null,
   "metadata": {},
   "outputs": [],
   "source": []
  },
  {
   "cell_type": "code",
   "execution_count": null,
   "metadata": {},
   "outputs": [],
   "source": []
  },
  {
   "cell_type": "code",
   "execution_count": null,
   "metadata": {},
   "outputs": [],
   "source": []
  },
  {
   "cell_type": "code",
   "execution_count": null,
   "metadata": {},
   "outputs": [],
   "source": []
  },
  {
   "cell_type": "code",
   "execution_count": 5,
   "metadata": {},
   "outputs": [],
   "source": [
    "# 비교할 수 있는 set 구문을 하나 만들고 (set('0123456789') => ('0', '1', ...))\n",
    "# 입력된 값도 문자열 타입 + set로 변경해서\n",
    "# 비교 set에서 입력된 set를 뺄거임\n",
    "# 그러면 안쓴 번호만 남게 되는데 걔를 정렬하고 문자열로 합치면 됨\n",
    "def unused_digits(*args):\n",
    "    word = set('0123456789') # set(map(str, range(10)))   /// 두 개는 같은 코드\n",
    "    for arg in args:\n",
    "        word -= set(str(arg)) # 타입이 맞아야 연산 가능\n",
    "    return ''.join(sorted(word))"
   ]
  },
  {
   "cell_type": "markdown",
   "metadata": {},
   "source": [
    "iterable : 시퀀스(문자열, 리스트, 튜플, ...)\n",
    "collection : set, dict, ..."
   ]
  },
  {
   "cell_type": "code",
   "execution_count": 38,
   "metadata": {},
   "outputs": [],
   "source": [
    "def unused_digits(*args):\n",
    "    number_list = '0123456789'\n",
    "    number_word = ''\n",
    "    result_word = ''\n",
    "    for i in args:\n",
    "        number_word += str(i)\n",
    "#     word_list = list(int(number_word))\n",
    "#     print(number_word)\n",
    "    for j in number_list:\n",
    "        if j not in number_word:\n",
    "            result_word += j\n",
    "    return f'\\'{str(result_word)}\\''"
   ]
  },
  {
   "cell_type": "code",
   "execution_count": 6,
   "metadata": {},
   "outputs": [
    {
     "name": "stdout",
     "output_type": "stream",
     "text": [
      "09\n",
      "3479\n"
     ]
    }
   ],
   "source": [
    "print(unused_digits(12, 34, 56, 78))\n",
    "print(unused_digits(2015, 8, 26))"
   ]
  },
  {
   "cell_type": "code",
   "execution_count": 42,
   "metadata": {},
   "outputs": [
    {
     "name": "stdout",
     "output_type": "stream",
     "text": [
      "Help on built-in function sorted in module builtins:\n",
      "\n",
      "sorted(iterable, /, *, key=None, reverse=False)\n",
      "    Return a new list containing all items from the iterable in ascending order.\n",
      "    \n",
      "    A custom key function can be supplied to customize the sort order, and the\n",
      "    reverse flag can be set to request the result in descending order.\n",
      "\n"
     ]
    }
   ],
   "source": [
    "help(sorted)  # iterable하기 때문에 정렬할 수 있다."
   ]
  },
  {
   "cell_type": "markdown",
   "metadata": {},
   "source": [
    "# 짝홀짝홀"
   ]
  },
  {
   "cell_type": "markdown",
   "metadata": {},
   "source": [
    "> n개의 양의 정수 리스트가 주어지면, 홀수와 짝수를 분리하고 각각의 조건에 맞게 홀수와 짝수를 \n",
    "정렬하세요.\n",
    "\n",
    "> 조건\n",
    "1. 짝수와 홀수가 번갈아 가면서 나오게 됩니다.\n",
    "2. 짝수가 먼저 시작됩니다.\n",
    "3. 짝수는 오름차순으로 홀수는 내림차순으로 되어야합니다.\n",
    "\n",
    "> 실습 입력 인자 조건\n",
    "1. 인자 리스트의 크기는 적어도 4이상입니다.\n",
    "2. 인자 리스트의 요소값으로 0은 존재하지 않습니다.\n",
    "3. 인자 리스트의 요소값이 반복될 수 있으나 출력할 때는 중복 값이 없습니다.\n",
    "\n",
    "```python\n",
    "# 예시) \n",
    "\n",
    "print(even_and_odd([7, 3 , 14 , 17]))\n",
    "# => [14, 17, 7, 3]\n",
    "\n",
    "print(even_and_odd([1, 3, 5, 7, 9, 11]))\n",
    "# => [11, 9, 7, 5, 3, 1]\n",
    "\n",
    "print(even_and_odd([1, 2, 2, 4, 4, 6, 6, 2004, 9, 11]))\n",
    "# => [2, 11, 4, 9, 6, 1, 2004]\n",
    "```"
   ]
  },
  {
   "cell_type": "code",
   "execution_count": null,
   "metadata": {},
   "outputs": [],
   "source": [
    "# 여기에 코드를 작성하세요"
   ]
  },
  {
   "cell_type": "code",
   "execution_count": 105,
   "metadata": {},
   "outputs": [
    {
     "name": "stdout",
     "output_type": "stream",
     "text": [
      "[14, 17, 7, 3]\n",
      "[11, 9, 7, 5, 3, 1]\n",
      "[2, 11, 4, 9, 6, 1, 2004]\n"
     ]
    }
   ],
   "source": [
    "def even_and_odd(numbers):\n",
    "    odd_numbers = []\n",
    "    even_numbers = []\n",
    "    result = []\n",
    "    for number in numbers:\n",
    "        if number % 2:\n",
    "            odd_numbers.append(number)\n",
    "        else:\n",
    "            even_numbers.append(number)\n",
    "    \n",
    "    odd_numbers = sorted(list(set(odd_numbers)), reverse = True)\n",
    "    even_numbers = sorted(list(set(even_numbers)), reverse = False)\n",
    "    \n",
    "            \n",
    "    for i in range(min(len(odd_numbers), len(even_numbers))):\n",
    "        result.append(even_numbers[i])\n",
    "        result.append(odd_numbers[i])\n",
    "        \n",
    "    for j in odd_numbers:\n",
    "        if j not in result:\n",
    "            result.append(j)\n",
    "    \n",
    "    for k in even_numbers:\n",
    "        if k not in result:\n",
    "            result.append(k)\n",
    "            \n",
    "    return result\n",
    "\n",
    "\n",
    "print(even_and_odd([7, 3, 14, 17]))\n",
    "print(even_and_odd([1, 3, 5, 7, 9, 11]))\n",
    "print(even_and_odd([1, 2, 2, 4, 4, 6, 6, 2004, 9, 11]))"
   ]
  },
  {
   "cell_type": "code",
   "execution_count": 43,
   "metadata": {},
   "outputs": [],
   "source": [
    "# 1 pop() => return값이 있다.\n",
    "# set으로 중복 제거 후 리스트로 변경 후 정렬\n",
    "# 짝수 리스트와 홀수 리스트를 따로 분류\n",
    "# 둘 다 오름차순 상태인데, pop을 사용할 것이기 때문에 문제와 반대로 정렬해야 한다. (pop은 뒤에서부터 뽑아오기 때문)\n",
    "\n",
    "def even_and_odd(numbers):\n",
    "    numbers = sorted(list(set(numbers)))\n",
    "    even = []\n",
    "    odd = []\n",
    "    result = []\n",
    "    \n",
    "    for number in numbers:\n",
    "        if number % 2:\n",
    "            odd.append(number)\n",
    "        else:\n",
    "            even.append(number)\n",
    "            \n",
    "    even = even[::-1]  # 짝수는 내림차순으로 변경 (왜? 이따 pop으로 뒤에서부터 꺼낼 것이기 때문.)\n",
    "    \n",
    "    # 짝수 리스트와 홀수 리스트가 모두 빌 때까지 반복 / 새로운 결과 리스트에 삽입(짝수부터)\n",
    "    while True:\n",
    "        if len(even)==0 and len(odd)==0:\n",
    "            break\n",
    "        if even:\n",
    "            result.append(even.pop()) # 리턴값이 있기 때문에 이런식으로 값을 넣을 수 있다.\n",
    "        if odd:\n",
    "            result.append(odd.pop())\n",
    "    return result"
   ]
  },
  {
   "cell_type": "code",
   "execution_count": 102,
   "metadata": {},
   "outputs": [],
   "source": [
    "def even_and_odd(hi_list):\n",
    "    even_list = []\n",
    "    odd_list = []\n",
    "    result = []\n",
    "    for num in hi_list:\n",
    "        if num % 2:\n",
    "            odd_list.append(num)\n",
    "        else:\n",
    "            even_list.append(num)\n",
    "    result_even = sorted(list(set(even_list)), reverse=False)\n",
    "    result_odd = sorted(list(set(odd_list)), reverse=True)\n",
    "    \n",
    "    for i in range(min(len(result_even),len(result_odd))):\n",
    "#         if result_even[i] not in result and result_odd[i] not in result:\n",
    "        result.append(result_even[i])\n",
    "        result.append(result_odd[i])\n",
    "\n",
    "    for j in result_even:\n",
    "        if j not in result:\n",
    "            result.append(j)\n",
    "    \n",
    "    for k in result_odd:\n",
    "        if k not in result:\n",
    "            result.append(k)\n",
    "    \n",
    "    return result"
   ]
  },
  {
   "cell_type": "code",
   "execution_count": 98,
   "metadata": {},
   "outputs": [
    {
     "name": "stdout",
     "output_type": "stream",
     "text": [
      "[1, 2, 3]\n"
     ]
    }
   ],
   "source": [
    "a = [1, 2, 3, 3]\n",
    "print(list(set(a)))"
   ]
  },
  {
   "cell_type": "code",
   "execution_count": 103,
   "metadata": {
    "scrolled": false
   },
   "outputs": [
    {
     "name": "stdout",
     "output_type": "stream",
     "text": [
      "[14, 17, 7, 3]\n",
      "[11, 9, 7, 5, 3, 1]\n",
      "[2, 11, 4, 9, 6, 1, 2004]\n"
     ]
    }
   ],
   "source": [
    "print(even_and_odd([7, 3, 14, 17]))\n",
    "print(even_and_odd([1, 3, 5, 7, 9, 11]))\n",
    "print(even_and_odd([1, 2, 2, 4, 4, 6, 6, 2004, 9, 11]))"
   ]
  },
  {
   "cell_type": "markdown",
   "metadata": {},
   "source": [
    "# 문자열 계산하기\n",
    "\n",
    "> 아래와 같이 문자열이 주어졌을 때, 바보같은 사용자를 위해 계산을 해주려고 한다.\n",
    ">\n",
    "> 이 계산기는 더하기와 빼기밖에 못한다.\n",
    ">\n",
    "> `calc(equation)`을 만들어봅시다.\n",
    "\n",
    "\n",
    "```python\n",
    "# 예시\n",
    "calc('123+2-124')\n",
    "#=> 1\n",
    "\n",
    "calc('-12+12-7979+9191')\n",
    "#=> 1212\n",
    "\n",
    "calc('+1-1+1-1+1-1+1-1+1-1+1-1+1-1+1-1+1-1+1-1+1-1+1-1+1-1+1-1+1-1+1-1')\n",
    "#=> 0\n",
    "```"
   ]
  },
  {
   "cell_type": "code",
   "execution_count": null,
   "metadata": {},
   "outputs": [],
   "source": [
    "# 여기에 코드를 작성하세요."
   ]
  },
  {
   "cell_type": "code",
   "execution_count": 29,
   "metadata": {},
   "outputs": [
    {
     "name": "stdout",
     "output_type": "stream",
     "text": [
      "1\n",
      "1212\n",
      "0\n"
     ]
    }
   ],
   "source": [
    "def calc(equation):\n",
    "    result = '0'\n",
    "    \n",
    "    if equation[-1].isdecimal() == False:\n",
    "        equation += '0'\n",
    "        \n",
    "        \n",
    "    for i in equation:\n",
    "        if i.isdecimal():\n",
    "            result += i\n",
    "        else:\n",
    "            result += ' ' + i\n",
    "        \n",
    "    return sum(map(int, result.split(' ')))\n",
    "\n",
    "\n",
    "\n",
    "print(calc('123+2-124+'))\n",
    "print(calc('-12+12-7979+9191'))\n",
    "print(calc('+1-1+1-1+1-1+1-1+1-1+1-1+1-1+1-1+1-1+1-1+1-1+1-1+1-1+1-1+1-1+1-1'))"
   ]
  },
  {
   "cell_type": "code",
   "execution_count": 51,
   "metadata": {},
   "outputs": [],
   "source": [
    "# 1 replace()\n",
    "#'+' => ' +'  --> +1 -1 +1 -1\n",
    "def calc(equation):\n",
    "    equation = equation.replace('+', ' +')\n",
    "    equation = equation.replace('-', ' -')\n",
    "    result = equation.split()\n",
    "    \n",
    "    return sum(map(int, result))"
   ]
  },
  {
   "cell_type": "code",
   "execution_count": null,
   "metadata": {},
   "outputs": [],
   "source": [
    "# 2\n",
    "def calc(equations):\n",
    "    new_str = ''\n",
    "    res_cal = 0\n",
    "    for equation in equations:\n",
    "        if equation.isdecimal():\n",
    "            new_str += equation\n",
    "        else:\n",
    "            if new_str:\n",
    "                res_cal += int(new_str)\n",
    "                new_str = ''\n",
    "            new_str += equation\n",
    "    res_cal += int(new_str)\n",
    "    return res_cal"
   ]
  },
  {
   "cell_type": "code",
   "execution_count": null,
   "metadata": {},
   "outputs": [],
   "source": [
    "# 3\n",
    "def calc(equation): ##매우짧은것\n",
    "    return eval(equation)"
   ]
  },
  {
   "cell_type": "code",
   "execution_count": 9,
   "metadata": {},
   "outputs": [],
   "source": [
    "def calc(equation):\n",
    "    num = 0\n",
    "    plus_minus = []\n",
    "    for i in equation:\n",
    "        if not i.isdigit():\n",
    "            equation = equation.replace(i, ' ')\n",
    "            plus_minus.append(i)\n",
    "    result = equation.split(' ')\n",
    "    \n",
    "    if result[0] == '':\n",
    "        del result[0]\n",
    "\n",
    "    if len(plus_minus) < len(result):\n",
    "        num = int(result[0])\n",
    "        for k in range(len(plus_minus)):\n",
    "            if plus_minus[k] == '+':\n",
    "                num += int(result[k+1])\n",
    "            elif plus_minus[k] == '-':\n",
    "                num -= int(result[k+1])\n",
    "    else:\n",
    "        for j in range(len(plus_minus)):\n",
    "            if plus_minus[j] == '+':\n",
    "                num += int(result[j])\n",
    "            elif plus_minus[j] == '-':\n",
    "                num -= int(result[j])\n",
    "    \n",
    "    return num\n"
   ]
  },
  {
   "cell_type": "code",
   "execution_count": 52,
   "metadata": {},
   "outputs": [
    {
     "name": "stdout",
     "output_type": "stream",
     "text": [
      "1\n",
      "1212\n",
      "0\n"
     ]
    }
   ],
   "source": [
    "print(calc('123+2-124'))\n",
    "print(calc('-12+12-7979+9191'))\n",
    "print(calc('+1-1+1-1+1-1+1-1+1-1+1-1+1-1+1-1+1-1+1-1+1-1+1-1+1-1+1-1+1-1+1-1'))"
   ]
  },
  {
   "cell_type": "code",
   "execution_count": null,
   "metadata": {},
   "outputs": [],
   "source": []
  }
 ],
 "metadata": {
  "kernelspec": {
   "display_name": "Python 3",
   "language": "python",
   "name": "python3"
  },
  "language_info": {
   "codemirror_mode": {
    "name": "ipython",
    "version": 3
   },
   "file_extension": ".py",
   "mimetype": "text/x-python",
   "name": "python",
   "nbconvert_exporter": "python",
   "pygments_lexer": "ipython3",
   "version": "3.7.3"
  },
  "latex_envs": {
   "LaTeX_envs_menu_present": true,
   "autoclose": false,
   "autocomplete": true,
   "bibliofile": "biblio.bib",
   "cite_by": "apalike",
   "current_citInitial": 1,
   "eqLabelWithNumbers": true,
   "eqNumInitial": 1,
   "hotkeys": {
    "equation": "Ctrl-E",
    "itemize": "Ctrl-I"
   },
   "labels_anchors": false,
   "latex_user_defs": false,
   "report_style_numbering": false,
   "user_envs_cfg": false
  },
  "toc": {
   "base_numbering": 1,
   "nav_menu": {},
   "number_sections": true,
   "sideBar": true,
   "skip_h1_title": false,
   "title_cell": "Table of Contents",
   "title_sidebar": "Contents",
   "toc_cell": false,
   "toc_position": {},
   "toc_section_display": true,
   "toc_window_display": false
  }
 },
 "nbformat": 4,
 "nbformat_minor": 2
}
